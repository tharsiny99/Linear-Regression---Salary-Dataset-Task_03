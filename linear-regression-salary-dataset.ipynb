{
 "cells": [
  {
   "cell_type": "markdown",
   "id": "4e0c9b21",
   "metadata": {
    "papermill": {
     "duration": 0.011691,
     "end_time": "2024-02-08T02:54:13.823503",
     "exception": false,
     "start_time": "2024-02-08T02:54:13.811812",
     "status": "completed"
    },
    "tags": []
   },
   "source": [
    "# Predictive Modeling with Linear Regression ( Salary Dataset ) "
   ]
  },
  {
   "cell_type": "markdown",
   "id": "dbf3c5e1",
   "metadata": {
    "papermill": {
     "duration": 0.011005,
     "end_time": "2024-02-08T02:54:13.847022",
     "exception": false,
     "start_time": "2024-02-08T02:54:13.836017",
     "status": "completed"
    },
    "tags": []
   },
   "source": [
    "\n",
    "Build a predictive model using linear regression to predict a numerical outcome based on one or more features. Use a dataset with a continuous target variable."
   ]
  },
  {
   "cell_type": "code",
   "execution_count": 1,
   "id": "342903cb",
   "metadata": {
    "_cell_guid": "b1076dfc-b9ad-4769-8c92-a6c4dae69d19",
    "_uuid": "8f2839f25d086af736a60e9eeb907d3b93b6e0e5",
    "execution": {
     "iopub.execute_input": "2024-02-08T02:54:13.872830Z",
     "iopub.status.busy": "2024-02-08T02:54:13.872119Z",
     "iopub.status.idle": "2024-02-08T02:54:14.832638Z",
     "shell.execute_reply": "2024-02-08T02:54:14.831184Z"
    },
    "papermill": {
     "duration": 0.976474,
     "end_time": "2024-02-08T02:54:14.835727",
     "exception": false,
     "start_time": "2024-02-08T02:54:13.859253",
     "status": "completed"
    },
    "tags": []
   },
   "outputs": [
    {
     "name": "stdout",
     "output_type": "stream",
     "text": [
      "/kaggle/input/salary-data-dataset-for-linear-regression/Salary_Data.csv\n"
     ]
    }
   ],
   "source": [
    "# This Python 3 environment comes with many helpful analytics libraries installed\n",
    "# It is defined by the kaggle/python Docker image: https://github.com/kaggle/docker-python\n",
    "# For example, here's several helpful packages to load\n",
    "\n",
    "import numpy as np # linear algebra\n",
    "import pandas as pd # data processing, CSV file I/O (e.g. pd.read_csv)\n",
    "\n",
    "# Input data files are available in the read-only \"../input/\" directory\n",
    "# For example, running this (by clicking run or pressing Shift+Enter) will list all files under the input directory\n",
    "\n",
    "import os\n",
    "for dirname, _, filenames in os.walk('/kaggle/input'):\n",
    "    for filename in filenames:\n",
    "        print(os.path.join(dirname, filename))\n",
    "\n",
    "# You can write up to 20GB to the current directory (/kaggle/working/) that gets preserved as output when you create a version using \"Save & Run All\" \n",
    "# You can also write temporary files to /kaggle/temp/, but they won't be saved outside of the current session"
   ]
  },
  {
   "cell_type": "markdown",
   "id": "b5099f52",
   "metadata": {
    "papermill": {
     "duration": 0.011104,
     "end_time": "2024-02-08T02:54:14.861071",
     "exception": false,
     "start_time": "2024-02-08T02:54:14.849967",
     "status": "completed"
    },
    "tags": []
   },
   "source": [
    "# Import necessary libraries"
   ]
  },
  {
   "cell_type": "code",
   "execution_count": 2,
   "id": "1f2ca12e",
   "metadata": {
    "execution": {
     "iopub.execute_input": "2024-02-08T02:54:14.886074Z",
     "iopub.status.busy": "2024-02-08T02:54:14.885143Z",
     "iopub.status.idle": "2024-02-08T02:54:16.341497Z",
     "shell.execute_reply": "2024-02-08T02:54:16.339998Z"
    },
    "papermill": {
     "duration": 1.471587,
     "end_time": "2024-02-08T02:54:16.344080",
     "exception": false,
     "start_time": "2024-02-08T02:54:14.872493",
     "status": "completed"
    },
    "tags": []
   },
   "outputs": [],
   "source": [
    "import numpy as np\n",
    "import pandas as pd\n",
    "from pandas import Series,DataFrame\n",
    "import seaborn as sns\n",
    "import matplotlib.pyplot as plt\n",
    "import warnings\n",
    "warnings.filterwarnings('ignore')"
   ]
  },
  {
   "cell_type": "markdown",
   "id": "ca498f22",
   "metadata": {
    "papermill": {
     "duration": 0.010772,
     "end_time": "2024-02-08T02:54:16.366140",
     "exception": false,
     "start_time": "2024-02-08T02:54:16.355368",
     "status": "completed"
    },
    "tags": []
   },
   "source": [
    "# Load the dataset"
   ]
  },
  {
   "cell_type": "code",
   "execution_count": 3,
   "id": "936816ac",
   "metadata": {
    "execution": {
     "iopub.execute_input": "2024-02-08T02:54:16.391125Z",
     "iopub.status.busy": "2024-02-08T02:54:16.390109Z",
     "iopub.status.idle": "2024-02-08T02:54:16.409275Z",
     "shell.execute_reply": "2024-02-08T02:54:16.407907Z"
    },
    "papermill": {
     "duration": 0.034128,
     "end_time": "2024-02-08T02:54:16.411535",
     "exception": false,
     "start_time": "2024-02-08T02:54:16.377407",
     "status": "completed"
    },
    "tags": []
   },
   "outputs": [],
   "source": [
    "df = pd.read_csv(\"/kaggle/input/salary-data-dataset-for-linear-regression/Salary_Data.csv\")"
   ]
  },
  {
   "cell_type": "markdown",
   "id": "9ed22004",
   "metadata": {
    "papermill": {
     "duration": 0.010687,
     "end_time": "2024-02-08T02:54:16.433893",
     "exception": false,
     "start_time": "2024-02-08T02:54:16.423206",
     "status": "completed"
    },
    "tags": []
   },
   "source": [
    "#  Explore the dataset"
   ]
  },
  {
   "cell_type": "code",
   "execution_count": 4,
   "id": "e1d301ba",
   "metadata": {
    "execution": {
     "iopub.execute_input": "2024-02-08T02:54:16.457121Z",
     "iopub.status.busy": "2024-02-08T02:54:16.456781Z",
     "iopub.status.idle": "2024-02-08T02:54:16.474073Z",
     "shell.execute_reply": "2024-02-08T02:54:16.472856Z"
    },
    "papermill": {
     "duration": 0.031705,
     "end_time": "2024-02-08T02:54:16.476450",
     "exception": false,
     "start_time": "2024-02-08T02:54:16.444745",
     "status": "completed"
    },
    "tags": []
   },
   "outputs": [
    {
     "data": {
      "text/html": [
       "<div>\n",
       "<style scoped>\n",
       "    .dataframe tbody tr th:only-of-type {\n",
       "        vertical-align: middle;\n",
       "    }\n",
       "\n",
       "    .dataframe tbody tr th {\n",
       "        vertical-align: top;\n",
       "    }\n",
       "\n",
       "    .dataframe thead th {\n",
       "        text-align: right;\n",
       "    }\n",
       "</style>\n",
       "<table border=\"1\" class=\"dataframe\">\n",
       "  <thead>\n",
       "    <tr style=\"text-align: right;\">\n",
       "      <th></th>\n",
       "      <th>YearsExperience</th>\n",
       "      <th>Salary</th>\n",
       "    </tr>\n",
       "  </thead>\n",
       "  <tbody>\n",
       "    <tr>\n",
       "      <th>0</th>\n",
       "      <td>1.1</td>\n",
       "      <td>39343</td>\n",
       "    </tr>\n",
       "    <tr>\n",
       "      <th>1</th>\n",
       "      <td>1.3</td>\n",
       "      <td>46205</td>\n",
       "    </tr>\n",
       "    <tr>\n",
       "      <th>2</th>\n",
       "      <td>1.5</td>\n",
       "      <td>37731</td>\n",
       "    </tr>\n",
       "    <tr>\n",
       "      <th>3</th>\n",
       "      <td>2.0</td>\n",
       "      <td>43525</td>\n",
       "    </tr>\n",
       "    <tr>\n",
       "      <th>4</th>\n",
       "      <td>2.2</td>\n",
       "      <td>39891</td>\n",
       "    </tr>\n",
       "  </tbody>\n",
       "</table>\n",
       "</div>"
      ],
      "text/plain": [
       "   YearsExperience  Salary\n",
       "0              1.1   39343\n",
       "1              1.3   46205\n",
       "2              1.5   37731\n",
       "3              2.0   43525\n",
       "4              2.2   39891"
      ]
     },
     "execution_count": 4,
     "metadata": {},
     "output_type": "execute_result"
    }
   ],
   "source": [
    "df.head()"
   ]
  },
  {
   "cell_type": "code",
   "execution_count": 5,
   "id": "64047173",
   "metadata": {
    "execution": {
     "iopub.execute_input": "2024-02-08T02:54:16.502116Z",
     "iopub.status.busy": "2024-02-08T02:54:16.501241Z",
     "iopub.status.idle": "2024-02-08T02:54:16.531781Z",
     "shell.execute_reply": "2024-02-08T02:54:16.531103Z"
    },
    "papermill": {
     "duration": 0.045913,
     "end_time": "2024-02-08T02:54:16.533849",
     "exception": false,
     "start_time": "2024-02-08T02:54:16.487936",
     "status": "completed"
    },
    "tags": []
   },
   "outputs": [
    {
     "name": "stdout",
     "output_type": "stream",
     "text": [
      "<class 'pandas.core.frame.DataFrame'>\n",
      "RangeIndex: 30 entries, 0 to 29\n",
      "Data columns (total 2 columns):\n",
      " #   Column           Non-Null Count  Dtype  \n",
      "---  ------           --------------  -----  \n",
      " 0   YearsExperience  30 non-null     float64\n",
      " 1   Salary           30 non-null     int64  \n",
      "dtypes: float64(1), int64(1)\n",
      "memory usage: 608.0 bytes\n"
     ]
    }
   ],
   "source": [
    "df.info()"
   ]
  },
  {
   "cell_type": "code",
   "execution_count": 6,
   "id": "73335f80",
   "metadata": {
    "execution": {
     "iopub.execute_input": "2024-02-08T02:54:16.557823Z",
     "iopub.status.busy": "2024-02-08T02:54:16.557475Z",
     "iopub.status.idle": "2024-02-08T02:54:16.573285Z",
     "shell.execute_reply": "2024-02-08T02:54:16.571774Z"
    },
    "papermill": {
     "duration": 0.03088,
     "end_time": "2024-02-08T02:54:16.575905",
     "exception": false,
     "start_time": "2024-02-08T02:54:16.545025",
     "status": "completed"
    },
    "tags": []
   },
   "outputs": [
    {
     "data": {
      "text/html": [
       "<div>\n",
       "<style scoped>\n",
       "    .dataframe tbody tr th:only-of-type {\n",
       "        vertical-align: middle;\n",
       "    }\n",
       "\n",
       "    .dataframe tbody tr th {\n",
       "        vertical-align: top;\n",
       "    }\n",
       "\n",
       "    .dataframe thead th {\n",
       "        text-align: right;\n",
       "    }\n",
       "</style>\n",
       "<table border=\"1\" class=\"dataframe\">\n",
       "  <thead>\n",
       "    <tr style=\"text-align: right;\">\n",
       "      <th></th>\n",
       "      <th>YearsExperience</th>\n",
       "      <th>Salary</th>\n",
       "    </tr>\n",
       "  </thead>\n",
       "  <tbody>\n",
       "    <tr>\n",
       "      <th>count</th>\n",
       "      <td>30.000000</td>\n",
       "      <td>30.000000</td>\n",
       "    </tr>\n",
       "    <tr>\n",
       "      <th>mean</th>\n",
       "      <td>5.313333</td>\n",
       "      <td>76003.000000</td>\n",
       "    </tr>\n",
       "    <tr>\n",
       "      <th>std</th>\n",
       "      <td>2.837888</td>\n",
       "      <td>27414.429785</td>\n",
       "    </tr>\n",
       "    <tr>\n",
       "      <th>min</th>\n",
       "      <td>1.100000</td>\n",
       "      <td>37731.000000</td>\n",
       "    </tr>\n",
       "    <tr>\n",
       "      <th>25%</th>\n",
       "      <td>3.200000</td>\n",
       "      <td>56720.750000</td>\n",
       "    </tr>\n",
       "    <tr>\n",
       "      <th>50%</th>\n",
       "      <td>4.700000</td>\n",
       "      <td>65237.000000</td>\n",
       "    </tr>\n",
       "    <tr>\n",
       "      <th>75%</th>\n",
       "      <td>7.700000</td>\n",
       "      <td>100544.750000</td>\n",
       "    </tr>\n",
       "    <tr>\n",
       "      <th>max</th>\n",
       "      <td>10.500000</td>\n",
       "      <td>122391.000000</td>\n",
       "    </tr>\n",
       "  </tbody>\n",
       "</table>\n",
       "</div>"
      ],
      "text/plain": [
       "       YearsExperience         Salary\n",
       "count        30.000000      30.000000\n",
       "mean          5.313333   76003.000000\n",
       "std           2.837888   27414.429785\n",
       "min           1.100000   37731.000000\n",
       "25%           3.200000   56720.750000\n",
       "50%           4.700000   65237.000000\n",
       "75%           7.700000  100544.750000\n",
       "max          10.500000  122391.000000"
      ]
     },
     "execution_count": 6,
     "metadata": {},
     "output_type": "execute_result"
    }
   ],
   "source": [
    "df.describe()"
   ]
  },
  {
   "cell_type": "code",
   "execution_count": 7,
   "id": "b4ee277b",
   "metadata": {
    "execution": {
     "iopub.execute_input": "2024-02-08T02:54:16.601666Z",
     "iopub.status.busy": "2024-02-08T02:54:16.601081Z",
     "iopub.status.idle": "2024-02-08T02:54:16.611570Z",
     "shell.execute_reply": "2024-02-08T02:54:16.609944Z"
    },
    "papermill": {
     "duration": 0.026382,
     "end_time": "2024-02-08T02:54:16.614001",
     "exception": false,
     "start_time": "2024-02-08T02:54:16.587619",
     "status": "completed"
    },
    "tags": []
   },
   "outputs": [
    {
     "name": "stdout",
     "output_type": "stream",
     "text": [
      "       YearsExperience         Salary\n",
      "count        30.000000      30.000000\n",
      "mean          5.313333   76003.000000\n",
      "std           2.837888   27414.429785\n",
      "min           1.100000   37731.000000\n",
      "25%           3.200000   56720.750000\n",
      "50%           4.700000   65237.000000\n",
      "75%           7.700000  100544.750000\n",
      "max          10.500000  122391.000000\n"
     ]
    }
   ],
   "source": [
    "print(df.describe(include='all'))"
   ]
  },
  {
   "cell_type": "code",
   "execution_count": 8,
   "id": "b8da6c8e",
   "metadata": {
    "execution": {
     "iopub.execute_input": "2024-02-08T02:54:16.639283Z",
     "iopub.status.busy": "2024-02-08T02:54:16.638752Z",
     "iopub.status.idle": "2024-02-08T02:54:16.644359Z",
     "shell.execute_reply": "2024-02-08T02:54:16.643072Z"
    },
    "papermill": {
     "duration": 0.020931,
     "end_time": "2024-02-08T02:54:16.646852",
     "exception": false,
     "start_time": "2024-02-08T02:54:16.625921",
     "status": "completed"
    },
    "tags": []
   },
   "outputs": [
    {
     "data": {
      "text/plain": [
       "(30, 2)"
      ]
     },
     "execution_count": 8,
     "metadata": {},
     "output_type": "execute_result"
    }
   ],
   "source": [
    "df.shape"
   ]
  },
  {
   "cell_type": "code",
   "execution_count": 9,
   "id": "e92ddd81",
   "metadata": {
    "execution": {
     "iopub.execute_input": "2024-02-08T02:54:16.671566Z",
     "iopub.status.busy": "2024-02-08T02:54:16.671221Z",
     "iopub.status.idle": "2024-02-08T02:54:16.678690Z",
     "shell.execute_reply": "2024-02-08T02:54:16.677409Z"
    },
    "papermill": {
     "duration": 0.022937,
     "end_time": "2024-02-08T02:54:16.681556",
     "exception": false,
     "start_time": "2024-02-08T02:54:16.658619",
     "status": "completed"
    },
    "tags": []
   },
   "outputs": [
    {
     "data": {
      "text/plain": [
       "YearsExperience    0\n",
       "Salary             0\n",
       "dtype: int64"
      ]
     },
     "execution_count": 9,
     "metadata": {},
     "output_type": "execute_result"
    }
   ],
   "source": [
    "#check any missing values\n",
    "\n",
    "df.isnull().sum()"
   ]
  },
  {
   "cell_type": "code",
   "execution_count": 10,
   "id": "51122e6d",
   "metadata": {
    "execution": {
     "iopub.execute_input": "2024-02-08T02:54:16.709221Z",
     "iopub.status.busy": "2024-02-08T02:54:16.708882Z",
     "iopub.status.idle": "2024-02-08T02:54:16.717326Z",
     "shell.execute_reply": "2024-02-08T02:54:16.716171Z"
    },
    "papermill": {
     "duration": 0.025468,
     "end_time": "2024-02-08T02:54:16.719923",
     "exception": false,
     "start_time": "2024-02-08T02:54:16.694455",
     "status": "completed"
    },
    "tags": []
   },
   "outputs": [
    {
     "data": {
      "text/plain": [
       "YearsExperience    0.37956\n",
       "Salary             0.35412\n",
       "dtype: float64"
      ]
     },
     "execution_count": 10,
     "metadata": {},
     "output_type": "execute_result"
    }
   ],
   "source": [
    "#any outliers\n",
    "\n",
    "df.skew()"
   ]
  },
  {
   "cell_type": "code",
   "execution_count": 11,
   "id": "8e26052f",
   "metadata": {
    "execution": {
     "iopub.execute_input": "2024-02-08T02:54:16.747111Z",
     "iopub.status.busy": "2024-02-08T02:54:16.746691Z",
     "iopub.status.idle": "2024-02-08T02:54:16.755211Z",
     "shell.execute_reply": "2024-02-08T02:54:16.754168Z"
    },
    "papermill": {
     "duration": 0.024749,
     "end_time": "2024-02-08T02:54:16.757534",
     "exception": false,
     "start_time": "2024-02-08T02:54:16.732785",
     "status": "completed"
    },
    "tags": []
   },
   "outputs": [
    {
     "data": {
      "text/plain": [
       "YearsExperience   -1.012212\n",
       "Salary            -1.295421\n",
       "dtype: float64"
      ]
     },
     "execution_count": 11,
     "metadata": {},
     "output_type": "execute_result"
    }
   ],
   "source": [
    "df.kurt()"
   ]
  },
  {
   "cell_type": "code",
   "execution_count": 12,
   "id": "d6bceff6",
   "metadata": {
    "execution": {
     "iopub.execute_input": "2024-02-08T02:54:16.783031Z",
     "iopub.status.busy": "2024-02-08T02:54:16.782670Z",
     "iopub.status.idle": "2024-02-08T02:54:16.799456Z",
     "shell.execute_reply": "2024-02-08T02:54:16.797930Z"
    },
    "papermill": {
     "duration": 0.031829,
     "end_time": "2024-02-08T02:54:16.801533",
     "exception": false,
     "start_time": "2024-02-08T02:54:16.769704",
     "status": "completed"
    },
    "tags": []
   },
   "outputs": [
    {
     "data": {
      "text/html": [
       "<div>\n",
       "<style scoped>\n",
       "    .dataframe tbody tr th:only-of-type {\n",
       "        vertical-align: middle;\n",
       "    }\n",
       "\n",
       "    .dataframe tbody tr th {\n",
       "        vertical-align: top;\n",
       "    }\n",
       "\n",
       "    .dataframe thead th {\n",
       "        text-align: right;\n",
       "    }\n",
       "</style>\n",
       "<table border=\"1\" class=\"dataframe\">\n",
       "  <thead>\n",
       "    <tr style=\"text-align: right;\">\n",
       "      <th></th>\n",
       "      <th>YearsExperience</th>\n",
       "      <th>Salary</th>\n",
       "    </tr>\n",
       "  </thead>\n",
       "  <tbody>\n",
       "    <tr>\n",
       "      <th>YearsExperience</th>\n",
       "      <td>8.053609</td>\n",
       "      <td>7.610630e+04</td>\n",
       "    </tr>\n",
       "    <tr>\n",
       "      <th>Salary</th>\n",
       "      <td>76106.303448</td>\n",
       "      <td>7.515510e+08</td>\n",
       "    </tr>\n",
       "  </tbody>\n",
       "</table>\n",
       "</div>"
      ],
      "text/plain": [
       "                 YearsExperience        Salary\n",
       "YearsExperience         8.053609  7.610630e+04\n",
       "Salary              76106.303448  7.515510e+08"
      ]
     },
     "execution_count": 12,
     "metadata": {},
     "output_type": "execute_result"
    }
   ],
   "source": [
    "#check any correlation and covariance\n",
    "\n",
    "df[['YearsExperience','Salary']].cov()"
   ]
  },
  {
   "cell_type": "code",
   "execution_count": 13,
   "id": "ebde0982",
   "metadata": {
    "execution": {
     "iopub.execute_input": "2024-02-08T02:54:16.827540Z",
     "iopub.status.busy": "2024-02-08T02:54:16.827195Z",
     "iopub.status.idle": "2024-02-08T02:54:16.839705Z",
     "shell.execute_reply": "2024-02-08T02:54:16.838703Z"
    },
    "papermill": {
     "duration": 0.028088,
     "end_time": "2024-02-08T02:54:16.841995",
     "exception": false,
     "start_time": "2024-02-08T02:54:16.813907",
     "status": "completed"
    },
    "tags": []
   },
   "outputs": [
    {
     "data": {
      "text/html": [
       "<div>\n",
       "<style scoped>\n",
       "    .dataframe tbody tr th:only-of-type {\n",
       "        vertical-align: middle;\n",
       "    }\n",
       "\n",
       "    .dataframe tbody tr th {\n",
       "        vertical-align: top;\n",
       "    }\n",
       "\n",
       "    .dataframe thead th {\n",
       "        text-align: right;\n",
       "    }\n",
       "</style>\n",
       "<table border=\"1\" class=\"dataframe\">\n",
       "  <thead>\n",
       "    <tr style=\"text-align: right;\">\n",
       "      <th></th>\n",
       "      <th>YearsExperience</th>\n",
       "      <th>Salary</th>\n",
       "    </tr>\n",
       "  </thead>\n",
       "  <tbody>\n",
       "    <tr>\n",
       "      <th>YearsExperience</th>\n",
       "      <td>1.000000</td>\n",
       "      <td>0.978242</td>\n",
       "    </tr>\n",
       "    <tr>\n",
       "      <th>Salary</th>\n",
       "      <td>0.978242</td>\n",
       "      <td>1.000000</td>\n",
       "    </tr>\n",
       "  </tbody>\n",
       "</table>\n",
       "</div>"
      ],
      "text/plain": [
       "                 YearsExperience    Salary\n",
       "YearsExperience         1.000000  0.978242\n",
       "Salary                  0.978242  1.000000"
      ]
     },
     "execution_count": 13,
     "metadata": {},
     "output_type": "execute_result"
    }
   ],
   "source": [
    "df.corr()"
   ]
  },
  {
   "cell_type": "code",
   "execution_count": 14,
   "id": "dc029414",
   "metadata": {
    "execution": {
     "iopub.execute_input": "2024-02-08T02:54:16.869781Z",
     "iopub.status.busy": "2024-02-08T02:54:16.868767Z",
     "iopub.status.idle": "2024-02-08T02:54:17.174639Z",
     "shell.execute_reply": "2024-02-08T02:54:17.173429Z"
    },
    "papermill": {
     "duration": 0.322602,
     "end_time": "2024-02-08T02:54:17.177132",
     "exception": false,
     "start_time": "2024-02-08T02:54:16.854530",
     "status": "completed"
    },
    "tags": []
   },
   "outputs": [
    {
     "data": {
      "image/png": "[encoded data removed]",
      "text/plain": [
       "<Figure size 640x480 with 2 Axes>"
      ]
     },
     "metadata": {},
     "output_type": "display_data"
    }
   ],
   "source": [
    "sns.heatmap(df.corr(),annot=True)\n",
    "plt.show()"
   ]
  },
  {
   "cell_type": "code",
   "execution_count": 15,
   "id": "0edcb3d6",
   "metadata": {
    "execution": {
     "iopub.execute_input": "2024-02-08T02:54:17.204525Z",
     "iopub.status.busy": "2024-02-08T02:54:17.204168Z",
     "iopub.status.idle": "2024-02-08T02:54:18.088969Z",
     "shell.execute_reply": "2024-02-08T02:54:18.088181Z"
    },
    "papermill": {
     "duration": 0.899986,
     "end_time": "2024-02-08T02:54:18.090550",
     "exception": false,
     "start_time": "2024-02-08T02:54:17.190564",
     "status": "completed"
    },
    "tags": []
   },
   "outputs": [
    {
     "data": {
      "image/png": "[encoded data removed]",
      "text/plain": [
       "<Figure size 500x500 with 6 Axes>"
      ]
     },
     "metadata": {},
     "output_type": "display_data"
    }
   ],
   "source": [
    "sns.pairplot(df)\n",
    "plt.show()"
   ]
  },
  {
   "cell_type": "code",
   "execution_count": 16,
   "id": "57bafd5b",
   "metadata": {
    "execution": {
     "iopub.execute_input": "2024-02-08T02:54:18.117804Z",
     "iopub.status.busy": "2024-02-08T02:54:18.117449Z",
     "iopub.status.idle": "2024-02-08T02:54:18.265638Z",
     "shell.execute_reply": "2024-02-08T02:54:18.264479Z"
    },
    "papermill": {
     "duration": 0.164483,
     "end_time": "2024-02-08T02:54:18.267761",
     "exception": false,
     "start_time": "2024-02-08T02:54:18.103278",
     "status": "completed"
    },
    "tags": []
   },
   "outputs": [
    {
     "data": {
      "image/png": "[encoded data removed]",
      "text/plain": [
       "<Figure size 640x480 with 1 Axes>"
      ]
     },
     "metadata": {},
     "output_type": "display_data"
    }
   ],
   "source": [
    "plt.plot(df, linestyle = '--', linewidth='5.7')\n",
    "\n",
    "plt.show()"
   ]
  },
  {
   "cell_type": "code",
   "execution_count": 17,
   "id": "10196a4c",
   "metadata": {
    "execution": {
     "iopub.execute_input": "2024-02-08T02:54:18.350534Z",
     "iopub.status.busy": "2024-02-08T02:54:18.350205Z",
     "iopub.status.idle": "2024-02-08T02:54:18.487891Z",
     "shell.execute_reply": "2024-02-08T02:54:18.486607Z"
    },
    "papermill": {
     "duration": 0.209773,
     "end_time": "2024-02-08T02:54:18.490700",
     "exception": false,
     "start_time": "2024-02-08T02:54:18.280927",
     "status": "completed"
    },
    "tags": []
   },
   "outputs": [
    {
     "data": {
      "image/png": "[encoded data removed]",
      "text/plain": [
       "<Figure size 640x480 with 1 Axes>"
      ]
     },
     "metadata": {},
     "output_type": "display_data"
    }
   ],
   "source": [
    "plt.plot(df, linestyle = '--', linewidth='5.7', color='#FF1493')\n",
    "\n",
    "plt.show()"
   ]
  },
  {
   "cell_type": "code",
   "execution_count": 18,
   "id": "2756f40a",
   "metadata": {
    "execution": {
     "iopub.execute_input": "2024-02-08T02:54:18.520608Z",
     "iopub.status.busy": "2024-02-08T02:54:18.520257Z",
     "iopub.status.idle": "2024-02-08T02:54:18.742149Z",
     "shell.execute_reply": "2024-02-08T02:54:18.740917Z"
    },
    "papermill": {
     "duration": 0.239583,
     "end_time": "2024-02-08T02:54:18.744680",
     "exception": false,
     "start_time": "2024-02-08T02:54:18.505097",
     "status": "completed"
    },
    "tags": []
   },
   "outputs": [
    {
     "data": {
      "image/png": "[encoded data removed]",
      "text/plain": [
       "<Figure size 640x480 with 1 Axes>"
      ]
     },
     "metadata": {},
     "output_type": "display_data"
    }
   ],
   "source": [
    "df.plot.line(linestyle = ':', linewidth='3')\n",
    "\n",
    "plt.title('YearExperiene-VS-Salary')\n",
    "plt.show()"
   ]
  },
  {
   "cell_type": "code",
   "execution_count": 19,
   "id": "cf152f6e",
   "metadata": {
    "execution": {
     "iopub.execute_input": "2024-02-08T02:54:18.774245Z",
     "iopub.status.busy": "2024-02-08T02:54:18.773894Z",
     "iopub.status.idle": "2024-02-08T02:54:18.948684Z",
     "shell.execute_reply": "2024-02-08T02:54:18.947432Z"
    },
    "papermill": {
     "duration": 0.192867,
     "end_time": "2024-02-08T02:54:18.951648",
     "exception": false,
     "start_time": "2024-02-08T02:54:18.758781",
     "status": "completed"
    },
    "tags": []
   },
   "outputs": [
    {
     "data": {
      "image/png": "[encoded data removed]",
      "text/plain": [
       "<Figure size 640x480 with 1 Axes>"
      ]
     },
     "metadata": {},
     "output_type": "display_data"
    }
   ],
   "source": [
    "df = pd.DataFrame(data=df)\n",
    "\n",
    "df.plot.line(x='Salary',linestyle = ':', linewidth='3')\n",
    "\n",
    "plt.title('YearExperiene-VS-Salary')\n",
    "plt.show()"
   ]
  },
  {
   "cell_type": "markdown",
   "id": "3514ff58",
   "metadata": {
    "papermill": {
     "duration": 0.015365,
     "end_time": "2024-02-08T02:54:18.982283",
     "exception": false,
     "start_time": "2024-02-08T02:54:18.966918",
     "status": "completed"
    },
    "tags": []
   },
   "source": [
    "# Independent and Dependent Variables"
   ]
  },
  {
   "cell_type": "code",
   "execution_count": 20,
   "id": "286cfb38",
   "metadata": {
    "execution": {
     "iopub.execute_input": "2024-02-08T02:54:19.013926Z",
     "iopub.status.busy": "2024-02-08T02:54:19.013558Z",
     "iopub.status.idle": "2024-02-08T02:54:19.020062Z",
     "shell.execute_reply": "2024-02-08T02:54:19.019044Z"
    },
    "papermill": {
     "duration": 0.024516,
     "end_time": "2024-02-08T02:54:19.021683",
     "exception": false,
     "start_time": "2024-02-08T02:54:18.997167",
     "status": "completed"
    },
    "tags": []
   },
   "outputs": [],
   "source": [
    "X=df.drop('Salary',axis=1)"
   ]
  },
  {
   "cell_type": "code",
   "execution_count": 21,
   "id": "bbcee992",
   "metadata": {
    "execution": {
     "iopub.execute_input": "2024-02-08T02:54:19.051889Z",
     "iopub.status.busy": "2024-02-08T02:54:19.051459Z",
     "iopub.status.idle": "2024-02-08T02:54:19.056621Z",
     "shell.execute_reply": "2024-02-08T02:54:19.055648Z"
    },
    "papermill": {
     "duration": 0.022545,
     "end_time": "2024-02-08T02:54:19.058702",
     "exception": false,
     "start_time": "2024-02-08T02:54:19.036157",
     "status": "completed"
    },
    "tags": []
   },
   "outputs": [],
   "source": [
    "y=df.Salary"
   ]
  },
  {
   "cell_type": "code",
   "execution_count": 22,
   "id": "4ccd32b8",
   "metadata": {
    "execution": {
     "iopub.execute_input": "2024-02-08T02:54:19.090045Z",
     "iopub.status.busy": "2024-02-08T02:54:19.089691Z",
     "iopub.status.idle": "2024-02-08T02:54:19.098892Z",
     "shell.execute_reply": "2024-02-08T02:54:19.097922Z"
    },
    "papermill": {
     "duration": 0.027448,
     "end_time": "2024-02-08T02:54:19.101369",
     "exception": false,
     "start_time": "2024-02-08T02:54:19.073921",
     "status": "completed"
    },
    "tags": []
   },
   "outputs": [
    {
     "data": {
      "text/html": [
       "<div>\n",
       "<style scoped>\n",
       "    .dataframe tbody tr th:only-of-type {\n",
       "        vertical-align: middle;\n",
       "    }\n",
       "\n",
       "    .dataframe tbody tr th {\n",
       "        vertical-align: top;\n",
       "    }\n",
       "\n",
       "    .dataframe thead th {\n",
       "        text-align: right;\n",
       "    }\n",
       "</style>\n",
       "<table border=\"1\" class=\"dataframe\">\n",
       "  <thead>\n",
       "    <tr style=\"text-align: right;\">\n",
       "      <th></th>\n",
       "      <th>YearsExperience</th>\n",
       "    </tr>\n",
       "  </thead>\n",
       "  <tbody>\n",
       "    <tr>\n",
       "      <th>0</th>\n",
       "      <td>1.1</td>\n",
       "    </tr>\n",
       "    <tr>\n",
       "      <th>1</th>\n",
       "      <td>1.3</td>\n",
       "    </tr>\n",
       "    <tr>\n",
       "      <th>2</th>\n",
       "      <td>1.5</td>\n",
       "    </tr>\n",
       "    <tr>\n",
       "      <th>3</th>\n",
       "      <td>2.0</td>\n",
       "    </tr>\n",
       "    <tr>\n",
       "      <th>4</th>\n",
       "      <td>2.2</td>\n",
       "    </tr>\n",
       "  </tbody>\n",
       "</table>\n",
       "</div>"
      ],
      "text/plain": [
       "   YearsExperience\n",
       "0              1.1\n",
       "1              1.3\n",
       "2              1.5\n",
       "3              2.0\n",
       "4              2.2"
      ]
     },
     "execution_count": 22,
     "metadata": {},
     "output_type": "execute_result"
    }
   ],
   "source": [
    "X.head()"
   ]
  },
  {
   "cell_type": "code",
   "execution_count": 23,
   "id": "572777fc",
   "metadata": {
    "execution": {
     "iopub.execute_input": "2024-02-08T02:54:19.132901Z",
     "iopub.status.busy": "2024-02-08T02:54:19.132532Z",
     "iopub.status.idle": "2024-02-08T02:54:19.140734Z",
     "shell.execute_reply": "2024-02-08T02:54:19.139538Z"
    },
    "papermill": {
     "duration": 0.026288,
     "end_time": "2024-02-08T02:54:19.142680",
     "exception": false,
     "start_time": "2024-02-08T02:54:19.116392",
     "status": "completed"
    },
    "tags": []
   },
   "outputs": [
    {
     "data": {
      "text/plain": [
       "0    39343\n",
       "1    46205\n",
       "2    37731\n",
       "3    43525\n",
       "4    39891\n",
       "Name: Salary, dtype: int64"
      ]
     },
     "execution_count": 23,
     "metadata": {},
     "output_type": "execute_result"
    }
   ],
   "source": [
    "y.head()"
   ]
  },
  {
   "cell_type": "markdown",
   "id": "830f489f",
   "metadata": {
    "papermill": {
     "duration": 0.016305,
     "end_time": "2024-02-08T02:54:19.174477",
     "exception": false,
     "start_time": "2024-02-08T02:54:19.158172",
     "status": "completed"
    },
    "tags": []
   },
   "source": [
    "# Splitting the data"
   ]
  },
  {
   "cell_type": "code",
   "execution_count": 24,
   "id": "a2ce0baf",
   "metadata": {
    "execution": {
     "iopub.execute_input": "2024-02-08T02:54:19.207835Z",
     "iopub.status.busy": "2024-02-08T02:54:19.207294Z",
     "iopub.status.idle": "2024-02-08T02:54:19.524888Z",
     "shell.execute_reply": "2024-02-08T02:54:19.523663Z"
    },
    "papermill": {
     "duration": 0.337918,
     "end_time": "2024-02-08T02:54:19.527442",
     "exception": false,
     "start_time": "2024-02-08T02:54:19.189524",
     "status": "completed"
    },
    "tags": []
   },
   "outputs": [],
   "source": [
    "from sklearn.model_selection import train_test_split"
   ]
  },
  {
   "cell_type": "code",
   "execution_count": 25,
   "id": "83f53dce",
   "metadata": {
    "execution": {
     "iopub.execute_input": "2024-02-08T02:54:19.559932Z",
     "iopub.status.busy": "2024-02-08T02:54:19.559542Z",
     "iopub.status.idle": "2024-02-08T02:54:19.569055Z",
     "shell.execute_reply": "2024-02-08T02:54:19.568308Z"
    },
    "papermill": {
     "duration": 0.027597,
     "end_time": "2024-02-08T02:54:19.571275",
     "exception": false,
     "start_time": "2024-02-08T02:54:19.543678",
     "status": "completed"
    },
    "tags": []
   },
   "outputs": [],
   "source": [
    "X_train,X_test,y_train,y_test=train_test_split(X,y,random_state=0,test_size=0.30)"
   ]
  },
  {
   "cell_type": "code",
   "execution_count": 26,
   "id": "b6b1ccc0",
   "metadata": {
    "execution": {
     "iopub.execute_input": "2024-02-08T02:54:19.603369Z",
     "iopub.status.busy": "2024-02-08T02:54:19.601947Z",
     "iopub.status.idle": "2024-02-08T02:54:19.607920Z",
     "shell.execute_reply": "2024-02-08T02:54:19.606712Z"
    },
    "papermill": {
     "duration": 0.023847,
     "end_time": "2024-02-08T02:54:19.610072",
     "exception": false,
     "start_time": "2024-02-08T02:54:19.586225",
     "status": "completed"
    },
    "tags": []
   },
   "outputs": [
    {
     "name": "stdout",
     "output_type": "stream",
     "text": [
      "(21, 1)\n"
     ]
    }
   ],
   "source": [
    "print(X_train.shape)"
   ]
  },
  {
   "cell_type": "code",
   "execution_count": 27,
   "id": "f0a249f3",
   "metadata": {
    "execution": {
     "iopub.execute_input": "2024-02-08T02:54:19.642998Z",
     "iopub.status.busy": "2024-02-08T02:54:19.641299Z",
     "iopub.status.idle": "2024-02-08T02:54:19.648394Z",
     "shell.execute_reply": "2024-02-08T02:54:19.647187Z"
    },
    "papermill": {
     "duration": 0.02507,
     "end_time": "2024-02-08T02:54:19.650238",
     "exception": false,
     "start_time": "2024-02-08T02:54:19.625168",
     "status": "completed"
    },
    "tags": []
   },
   "outputs": [
    {
     "data": {
      "text/plain": [
       "(9, 1)"
      ]
     },
     "execution_count": 27,
     "metadata": {},
     "output_type": "execute_result"
    }
   ],
   "source": [
    "X_test.shape"
   ]
  },
  {
   "cell_type": "markdown",
   "id": "54e9ff74",
   "metadata": {
    "papermill": {
     "duration": 0.019037,
     "end_time": "2024-02-08T02:54:19.685769",
     "exception": false,
     "start_time": "2024-02-08T02:54:19.666732",
     "status": "completed"
    },
    "tags": []
   },
   "source": [
    "# Develop Model"
   ]
  },
  {
   "cell_type": "code",
   "execution_count": 28,
   "id": "8b04512f",
   "metadata": {
    "execution": {
     "iopub.execute_input": "2024-02-08T02:54:19.723168Z",
     "iopub.status.busy": "2024-02-08T02:54:19.722796Z",
     "iopub.status.idle": "2024-02-08T02:54:19.832914Z",
     "shell.execute_reply": "2024-02-08T02:54:19.829545Z"
    },
    "papermill": {
     "duration": 0.129537,
     "end_time": "2024-02-08T02:54:19.835650",
     "exception": false,
     "start_time": "2024-02-08T02:54:19.706113",
     "status": "completed"
    },
    "tags": []
   },
   "outputs": [],
   "source": [
    "from sklearn.linear_model import LinearRegression"
   ]
  },
  {
   "cell_type": "code",
   "execution_count": 29,
   "id": "5c508195",
   "metadata": {
    "execution": {
     "iopub.execute_input": "2024-02-08T02:54:19.878563Z",
     "iopub.status.busy": "2024-02-08T02:54:19.876921Z",
     "iopub.status.idle": "2024-02-08T02:54:19.883027Z",
     "shell.execute_reply": "2024-02-08T02:54:19.882036Z"
    },
    "papermill": {
     "duration": 0.029579,
     "end_time": "2024-02-08T02:54:19.885644",
     "exception": false,
     "start_time": "2024-02-08T02:54:19.856065",
     "status": "completed"
    },
    "tags": []
   },
   "outputs": [],
   "source": [
    "LR=LinearRegression()"
   ]
  },
  {
   "cell_type": "code",
   "execution_count": 30,
   "id": "1063513c",
   "metadata": {
    "execution": {
     "iopub.execute_input": "2024-02-08T02:54:19.922303Z",
     "iopub.status.busy": "2024-02-08T02:54:19.921658Z",
     "iopub.status.idle": "2024-02-08T02:54:19.945530Z",
     "shell.execute_reply": "2024-02-08T02:54:19.944064Z"
    },
    "papermill": {
     "duration": 0.044471,
     "end_time": "2024-02-08T02:54:19.948105",
     "exception": false,
     "start_time": "2024-02-08T02:54:19.903634",
     "status": "completed"
    },
    "tags": []
   },
   "outputs": [
    {
     "data": {
      "text/html": [
       "<style>#sk-container-id-1 {color: black;background-color: white;}#sk-container-id-1 pre{padding: 0;}#sk-container-id-1 div.sk-toggleable {background-color: white;}#sk-container-id-1 label.sk-toggleable__label {cursor: pointer;display: block;width: 100%;margin-bottom: 0;padding: 0.3em;box-sizing: border-box;text-align: center;}#sk-container-id-1 label.sk-toggleable__label-arrow:before {content: \"▸\";float: left;margin-right: 0.25em;color: #696969;}#sk-container-id-1 label.sk-toggleable__label-arrow:hover:before {color: black;}#sk-container-id-1 div.sk-estimator:hover label.sk-toggleable__label-arrow:before {color: black;}#sk-container-id-1 div.sk-toggleable__content {max-height: 0;max-width: 0;overflow: hidden;text-align: left;background-color: #f0f8ff;}#sk-container-id-1 div.sk-toggleable__content pre {margin: 0.2em;color: black;border-radius: 0.25em;background-color: #f0f8ff;}#sk-container-id-1 input.sk-toggleable__control:checked~div.sk-toggleable__content {max-height: 200px;max-width: 100%;overflow: auto;}#sk-container-id-1 input.sk-toggleable__control:checked~label.sk-toggleable__label-arrow:before {content: \"▾\";}#sk-container-id-1 div.sk-estimator input.sk-toggleable__control:checked~label.sk-toggleable__label {background-color: #d4ebff;}#sk-container-id-1 div.sk-label input.sk-toggleable__control:checked~label.sk-toggleable__label {background-color: #d4ebff;}#sk-container-id-1 input.sk-hidden--visually {border: 0;clip: rect(1px 1px 1px 1px);clip: rect(1px, 1px, 1px, 1px);height: 1px;margin: -1px;overflow: hidden;padding: 0;position: absolute;width: 1px;}#sk-container-id-1 div.sk-estimator {font-family: monospace;background-color: #f0f8ff;border: 1px dotted black;border-radius: 0.25em;box-sizing: border-box;margin-bottom: 0.5em;}#sk-container-id-1 div.sk-estimator:hover {background-color: #d4ebff;}#sk-container-id-1 div.sk-parallel-item::after {content: \"\";width: 100%;border-bottom: 1px solid gray;flex-grow: 1;}#sk-container-id-1 div.sk-label:hover label.sk-toggleable__label {background-color: #d4ebff;}#sk-container-id-1 div.sk-serial::before {content: \"\";position: absolute;border-left: 1px solid gray;box-sizing: border-box;top: 0;bottom: 0;left: 50%;z-index: 0;}#sk-container-id-1 div.sk-serial {display: flex;flex-direction: column;align-items: center;background-color: white;padding-right: 0.2em;padding-left: 0.2em;position: relative;}#sk-container-id-1 div.sk-item {position: relative;z-index: 1;}#sk-container-id-1 div.sk-parallel {display: flex;align-items: stretch;justify-content: center;background-color: white;position: relative;}#sk-container-id-1 div.sk-item::before, #sk-container-id-1 div.sk-parallel-item::before {content: \"\";position: absolute;border-left: 1px solid gray;box-sizing: border-box;top: 0;bottom: 0;left: 50%;z-index: -1;}#sk-container-id-1 div.sk-parallel-item {display: flex;flex-direction: column;z-index: 1;position: relative;background-color: white;}#sk-container-id-1 div.sk-parallel-item:first-child::after {align-self: flex-end;width: 50%;}#sk-container-id-1 div.sk-parallel-item:last-child::after {align-self: flex-start;width: 50%;}#sk-container-id-1 div.sk-parallel-item:only-child::after {width: 0;}#sk-container-id-1 div.sk-dashed-wrapped {border: 1px dashed gray;margin: 0 0.4em 0.5em 0.4em;box-sizing: border-box;padding-bottom: 0.4em;background-color: white;}#sk-container-id-1 div.sk-label label {font-family: monospace;font-weight: bold;display: inline-block;line-height: 1.2em;}#sk-container-id-1 div.sk-label-container {text-align: center;}#sk-container-id-1 div.sk-container {/* jupyter's `normalize.less` sets `[hidden] { display: none; }` but bootstrap.min.css set `[hidden] { display: none !important; }` so we also need the `!important` here to be able to override the default hidden behavior on the sphinx rendered scikit-learn.org. See: https://github.com/scikit-learn/scikit-learn/issues/21755 */display: inline-block !important;position: relative;}#sk-container-id-1 div.sk-text-repr-fallback {display: none;}</style><div id=\"sk-container-id-1\" class=\"sk-top-container\"><div class=\"sk-text-repr-fallback\"><pre>LinearRegression()</pre><b>In a Jupyter environment, please rerun this cell to show the HTML representation or trust the notebook. <br />On GitHub, the HTML representation is unable to render, please try loading this page with nbviewer.org.</b></div><div class=\"sk-container\" hidden><div class=\"sk-item\"><div class=\"sk-estimator sk-toggleable\"><input class=\"sk-toggleable__control sk-hidden--visually\" id=\"sk-estimator-id-1\" type=\"checkbox\" checked><label for=\"sk-estimator-id-1\" class=\"sk-toggleable__label sk-toggleable__label-arrow\">LinearRegression</label><div class=\"sk-toggleable__content\"><pre>LinearRegression()</pre></div></div></div></div></div>"
      ],
      "text/plain": [
       "LinearRegression()"
      ]
     },
     "execution_count": 30,
     "metadata": {},
     "output_type": "execute_result"
    }
   ],
   "source": [
    "LR.fit(X_train,y_train)"
   ]
  },
  {
   "cell_type": "code",
   "execution_count": 31,
   "id": "57857df8",
   "metadata": {
    "execution": {
     "iopub.execute_input": "2024-02-08T02:54:19.981659Z",
     "iopub.status.busy": "2024-02-08T02:54:19.981292Z",
     "iopub.status.idle": "2024-02-08T02:54:19.988462Z",
     "shell.execute_reply": "2024-02-08T02:54:19.986666Z"
    },
    "papermill": {
     "duration": 0.026876,
     "end_time": "2024-02-08T02:54:19.990981",
     "exception": false,
     "start_time": "2024-02-08T02:54:19.964105",
     "status": "completed"
    },
    "tags": []
   },
   "outputs": [
    {
     "data": {
      "text/plain": [
       "26777.391341197625"
      ]
     },
     "execution_count": 31,
     "metadata": {},
     "output_type": "execute_result"
    }
   ],
   "source": [
    "LR.intercept_   # beta 0"
   ]
  },
  {
   "cell_type": "code",
   "execution_count": 32,
   "id": "94443fa6",
   "metadata": {
    "execution": {
     "iopub.execute_input": "2024-02-08T02:54:20.024075Z",
     "iopub.status.busy": "2024-02-08T02:54:20.023753Z",
     "iopub.status.idle": "2024-02-08T02:54:20.031566Z",
     "shell.execute_reply": "2024-02-08T02:54:20.029386Z"
    },
    "papermill": {
     "duration": 0.028256,
     "end_time": "2024-02-08T02:54:20.034431",
     "exception": false,
     "start_time": "2024-02-08T02:54:20.006175",
     "status": "completed"
    },
    "tags": []
   },
   "outputs": [
    {
     "data": {
      "text/plain": [
       "array([9360.26128619])"
      ]
     },
     "execution_count": 32,
     "metadata": {},
     "output_type": "execute_result"
    }
   ],
   "source": [
    "LR.coef_ "
   ]
  },
  {
   "cell_type": "markdown",
   "id": "ed01d968",
   "metadata": {
    "papermill": {
     "duration": 0.018868,
     "end_time": "2024-02-08T02:54:20.073353",
     "exception": false,
     "start_time": "2024-02-08T02:54:20.054485",
     "status": "completed"
    },
    "tags": []
   },
   "source": [
    "# Prediction"
   ]
  },
  {
   "cell_type": "code",
   "execution_count": 33,
   "id": "446a08a7",
   "metadata": {
    "execution": {
     "iopub.execute_input": "2024-02-08T02:54:20.107987Z",
     "iopub.status.busy": "2024-02-08T02:54:20.107664Z",
     "iopub.status.idle": "2024-02-08T02:54:20.114095Z",
     "shell.execute_reply": "2024-02-08T02:54:20.112545Z"
    },
    "papermill": {
     "duration": 0.025181,
     "end_time": "2024-02-08T02:54:20.116018",
     "exception": false,
     "start_time": "2024-02-08T02:54:20.090837",
     "status": "completed"
    },
    "tags": []
   },
   "outputs": [],
   "source": [
    "y_pred=LR.predict(X_test)"
   ]
  },
  {
   "cell_type": "code",
   "execution_count": 34,
   "id": "34801448",
   "metadata": {
    "execution": {
     "iopub.execute_input": "2024-02-08T02:54:20.149390Z",
     "iopub.status.busy": "2024-02-08T02:54:20.149039Z",
     "iopub.status.idle": "2024-02-08T02:54:20.156027Z",
     "shell.execute_reply": "2024-02-08T02:54:20.155291Z"
    },
    "papermill": {
     "duration": 0.025568,
     "end_time": "2024-02-08T02:54:20.157629",
     "exception": false,
     "start_time": "2024-02-08T02:54:20.132061",
     "status": "completed"
    },
    "tags": []
   },
   "outputs": [
    {
     "data": {
      "text/plain": [
       "array([ 40817.78327049, 123188.08258899,  65154.46261459,  63282.41035735,\n",
       "       115699.87356004, 108211.66453108, 116635.89968866,  64218.43648597,\n",
       "        76386.77615802])"
      ]
     },
     "execution_count": 34,
     "metadata": {},
     "output_type": "execute_result"
    }
   ],
   "source": [
    "y_pred"
   ]
  },
  {
   "cell_type": "code",
   "execution_count": 35,
   "id": "6bd257a1",
   "metadata": {
    "execution": {
     "iopub.execute_input": "2024-02-08T02:54:20.191258Z",
     "iopub.status.busy": "2024-02-08T02:54:20.190004Z",
     "iopub.status.idle": "2024-02-08T02:54:20.197283Z",
     "shell.execute_reply": "2024-02-08T02:54:20.196399Z"
    },
    "papermill": {
     "duration": 0.025901,
     "end_time": "2024-02-08T02:54:20.199007",
     "exception": false,
     "start_time": "2024-02-08T02:54:20.173106",
     "status": "completed"
    },
    "tags": []
   },
   "outputs": [
    {
     "data": {
      "text/plain": [
       "2      37731\n",
       "28    122391\n",
       "13     57081\n",
       "10     63218\n",
       "26    116969\n",
       "24    109431\n",
       "27    112635\n",
       "11     55794\n",
       "17     83088\n",
       "Name: Salary, dtype: int64"
      ]
     },
     "execution_count": 35,
     "metadata": {},
     "output_type": "execute_result"
    }
   ],
   "source": [
    "y_test"
   ]
  },
  {
   "cell_type": "markdown",
   "id": "a9641638",
   "metadata": {
    "papermill": {
     "duration": 0.016088,
     "end_time": "2024-02-08T02:54:20.230761",
     "exception": false,
     "start_time": "2024-02-08T02:54:20.214673",
     "status": "completed"
    },
    "tags": []
   },
   "source": [
    "# Evaluation model"
   ]
  },
  {
   "cell_type": "code",
   "execution_count": 36,
   "id": "e8e79368",
   "metadata": {
    "execution": {
     "iopub.execute_input": "2024-02-08T02:54:20.265457Z",
     "iopub.status.busy": "2024-02-08T02:54:20.264929Z",
     "iopub.status.idle": "2024-02-08T02:54:20.269852Z",
     "shell.execute_reply": "2024-02-08T02:54:20.268443Z"
    },
    "papermill": {
     "duration": 0.025779,
     "end_time": "2024-02-08T02:54:20.272182",
     "exception": false,
     "start_time": "2024-02-08T02:54:20.246403",
     "status": "completed"
    },
    "tags": []
   },
   "outputs": [],
   "source": [
    "from sklearn import metrics"
   ]
  },
  {
   "cell_type": "code",
   "execution_count": 37,
   "id": "9c4dfd71",
   "metadata": {
    "execution": {
     "iopub.execute_input": "2024-02-08T02:54:20.304731Z",
     "iopub.status.busy": "2024-02-08T02:54:20.304382Z",
     "iopub.status.idle": "2024-02-08T02:54:20.310339Z",
     "shell.execute_reply": "2024-02-08T02:54:20.309043Z"
    },
    "papermill": {
     "duration": 0.024651,
     "end_time": "2024-02-08T02:54:20.312388",
     "exception": false,
     "start_time": "2024-02-08T02:54:20.287737",
     "status": "completed"
    },
    "tags": []
   },
   "outputs": [],
   "source": [
    "R2=metrics.r2_score(y_test,y_pred)"
   ]
  },
  {
   "cell_type": "code",
   "execution_count": 38,
   "id": "24e03b64",
   "metadata": {
    "execution": {
     "iopub.execute_input": "2024-02-08T02:54:20.346375Z",
     "iopub.status.busy": "2024-02-08T02:54:20.346029Z",
     "iopub.status.idle": "2024-02-08T02:54:20.352654Z",
     "shell.execute_reply": "2024-02-08T02:54:20.351141Z"
    },
    "papermill": {
     "duration": 0.026773,
     "end_time": "2024-02-08T02:54:20.355084",
     "exception": false,
     "start_time": "2024-02-08T02:54:20.328311",
     "status": "completed"
    },
    "tags": []
   },
   "outputs": [
    {
     "data": {
      "text/plain": [
       "0.9740993407213511"
      ]
     },
     "execution_count": 38,
     "metadata": {},
     "output_type": "execute_result"
    }
   ],
   "source": [
    "R2"
   ]
  },
  {
   "cell_type": "code",
   "execution_count": 39,
   "id": "aa954374",
   "metadata": {
    "execution": {
     "iopub.execute_input": "2024-02-08T02:54:20.389529Z",
     "iopub.status.busy": "2024-02-08T02:54:20.388451Z",
     "iopub.status.idle": "2024-02-08T02:54:20.396140Z",
     "shell.execute_reply": "2024-02-08T02:54:20.394576Z"
    },
    "papermill": {
     "duration": 0.026978,
     "end_time": "2024-02-08T02:54:20.398097",
     "exception": false,
     "start_time": "2024-02-08T02:54:20.371119",
     "status": "completed"
    },
    "tags": []
   },
   "outputs": [
    {
     "name": "stdout",
     "output_type": "stream",
     "text": [
      "3737.417861878896\n"
     ]
    }
   ],
   "source": [
    "print(metrics.mean_absolute_error(y_test,y_pred))"
   ]
  },
  {
   "cell_type": "code",
   "execution_count": 40,
   "id": "d816b8e8",
   "metadata": {
    "execution": {
     "iopub.execute_input": "2024-02-08T02:54:20.432730Z",
     "iopub.status.busy": "2024-02-08T02:54:20.432364Z",
     "iopub.status.idle": "2024-02-08T02:54:20.438896Z",
     "shell.execute_reply": "2024-02-08T02:54:20.437392Z"
    },
    "papermill": {
     "duration": 0.026358,
     "end_time": "2024-02-08T02:54:20.440790",
     "exception": false,
     "start_time": "2024-02-08T02:54:20.414432",
     "status": "completed"
    },
    "tags": []
   },
   "outputs": [
    {
     "name": "stdout",
     "output_type": "stream",
     "text": [
      "23370078.800832972\n"
     ]
    }
   ],
   "source": [
    "print(metrics.mean_squared_error(y_test,y_pred))"
   ]
  },
  {
   "cell_type": "code",
   "execution_count": 41,
   "id": "53de07e7",
   "metadata": {
    "execution": {
     "iopub.execute_input": "2024-02-08T02:54:20.475123Z",
     "iopub.status.busy": "2024-02-08T02:54:20.474777Z",
     "iopub.status.idle": "2024-02-08T02:54:20.482536Z",
     "shell.execute_reply": "2024-02-08T02:54:20.480838Z"
    },
    "papermill": {
     "duration": 0.027815,
     "end_time": "2024-02-08T02:54:20.484808",
     "exception": false,
     "start_time": "2024-02-08T02:54:20.456993",
     "status": "completed"
    },
    "tags": []
   },
   "outputs": [
    {
     "name": "stdout",
     "output_type": "stream",
     "text": [
      "4834.260936361728\n"
     ]
    }
   ],
   "source": [
    "print(np.sqrt(metrics.mean_squared_error(y_test,y_pred)))"
   ]
  },
  {
   "cell_type": "code",
   "execution_count": 42,
   "id": "a84eca63",
   "metadata": {
    "execution": {
     "iopub.execute_input": "2024-02-08T02:54:20.519316Z",
     "iopub.status.busy": "2024-02-08T02:54:20.518962Z",
     "iopub.status.idle": "2024-02-08T02:54:20.524886Z",
     "shell.execute_reply": "2024-02-08T02:54:20.523652Z"
    },
    "papermill": {
     "duration": 0.026015,
     "end_time": "2024-02-08T02:54:20.527714",
     "exception": false,
     "start_time": "2024-02-08T02:54:20.501699",
     "status": "completed"
    },
    "tags": []
   },
   "outputs": [
    {
     "name": "stdout",
     "output_type": "stream",
     "text": [
      "[73578.69777217]\n"
     ]
    }
   ],
   "source": [
    "print(LR.predict([[5]])) "
   ]
  },
  {
   "cell_type": "markdown",
   "id": "4b621972",
   "metadata": {
    "papermill": {
     "duration": 0.016039,
     "end_time": "2024-02-08T02:54:20.559997",
     "exception": false,
     "start_time": "2024-02-08T02:54:20.543958",
     "status": "completed"
    },
    "tags": []
   },
   "source": [
    "# Assumptions"
   ]
  },
  {
   "cell_type": "code",
   "execution_count": 43,
   "id": "ddce0d1f",
   "metadata": {
    "execution": {
     "iopub.execute_input": "2024-02-08T02:54:20.594575Z",
     "iopub.status.busy": "2024-02-08T02:54:20.594208Z",
     "iopub.status.idle": "2024-02-08T02:54:20.599896Z",
     "shell.execute_reply": "2024-02-08T02:54:20.598836Z"
    },
    "papermill": {
     "duration": 0.02553,
     "end_time": "2024-02-08T02:54:20.601846",
     "exception": false,
     "start_time": "2024-02-08T02:54:20.576316",
     "status": "completed"
    },
    "tags": []
   },
   "outputs": [],
   "source": [
    "error= y_test-y_pred"
   ]
  },
  {
   "cell_type": "code",
   "execution_count": 44,
   "id": "d1a8a33b",
   "metadata": {
    "execution": {
     "iopub.execute_input": "2024-02-08T02:54:20.635727Z",
     "iopub.status.busy": "2024-02-08T02:54:20.635342Z",
     "iopub.status.idle": "2024-02-08T02:54:20.641664Z",
     "shell.execute_reply": "2024-02-08T02:54:20.640507Z"
    },
    "papermill": {
     "duration": 0.026368,
     "end_time": "2024-02-08T02:54:20.644311",
     "exception": false,
     "start_time": "2024-02-08T02:54:20.617943",
     "status": "completed"
    },
    "tags": []
   },
   "outputs": [
    {
     "data": {
      "text/plain": [
       "2    -3086.783270\n",
       "28    -797.082589\n",
       "13   -8073.462615\n",
       "10     -64.410357\n",
       "26    1269.126440\n",
       "24    1219.335469\n",
       "27   -4000.899689\n",
       "11   -8424.436486\n",
       "17    6701.223842\n",
       "Name: Salary, dtype: float64"
      ]
     },
     "execution_count": 44,
     "metadata": {},
     "output_type": "execute_result"
    }
   ],
   "source": [
    "error"
   ]
  },
  {
   "cell_type": "code",
   "execution_count": 45,
   "id": "6dcafe4d",
   "metadata": {
    "execution": {
     "iopub.execute_input": "2024-02-08T02:54:20.678543Z",
     "iopub.status.busy": "2024-02-08T02:54:20.678196Z",
     "iopub.status.idle": "2024-02-08T02:54:22.425343Z",
     "shell.execute_reply": "2024-02-08T02:54:22.423493Z"
    },
    "papermill": {
     "duration": 1.767008,
     "end_time": "2024-02-08T02:54:22.427654",
     "exception": false,
     "start_time": "2024-02-08T02:54:20.660646",
     "status": "completed"
    },
    "tags": []
   },
   "outputs": [],
   "source": [
    "import statsmodels.api as smt\n",
    "from statsmodels.graphics.tsaplots import plot_acf, plot_pacf"
   ]
  },
  {
   "cell_type": "code",
   "execution_count": 46,
   "id": "28fc85ec",
   "metadata": {
    "execution": {
     "iopub.execute_input": "2024-02-08T02:54:22.461861Z",
     "iopub.status.busy": "2024-02-08T02:54:22.460825Z",
     "iopub.status.idle": "2024-02-08T02:54:22.670020Z",
     "shell.execute_reply": "2024-02-08T02:54:22.668308Z"
    },
    "papermill": {
     "duration": 0.228706,
     "end_time": "2024-02-08T02:54:22.672479",
     "exception": false,
     "start_time": "2024-02-08T02:54:22.443773",
     "status": "completed"
    },
    "tags": []
   },
   "outputs": [
    {
     "data": {
      "image/png": "[encoded data removed]",
      "text/plain": [
       "<Figure size 640x480 with 1 Axes>"
      ]
     },
     "metadata": {},
     "output_type": "display_data"
    }
   ],
   "source": [
    "acf=plot_acf(error)\n",
    "plt.show()"
   ]
  },
  {
   "cell_type": "code",
   "execution_count": 47,
   "id": "9a2bd3b9",
   "metadata": {
    "execution": {
     "iopub.execute_input": "2024-02-08T02:54:22.709805Z",
     "iopub.status.busy": "2024-02-08T02:54:22.708325Z",
     "iopub.status.idle": "2024-02-08T02:54:22.919838Z",
     "shell.execute_reply": "2024-02-08T02:54:22.918431Z"
    },
    "papermill": {
     "duration": 0.231896,
     "end_time": "2024-02-08T02:54:22.921863",
     "exception": false,
     "start_time": "2024-02-08T02:54:22.689967",
     "status": "completed"
    },
    "tags": []
   },
   "outputs": [
    {
     "data": {
      "image/png": "[encoded data removed]",
      "text/plain": [
       "<Figure size 640x480 with 1 Axes>"
      ]
     },
     "metadata": {},
     "output_type": "display_data"
    }
   ],
   "source": [
    "sns.distplot(error)\n",
    "plt.xlabel('residual')\n",
    "plt.show()"
   ]
  },
  {
   "cell_type": "code",
   "execution_count": 48,
   "id": "76e2ab7e",
   "metadata": {
    "execution": {
     "iopub.execute_input": "2024-02-08T02:54:22.957517Z",
     "iopub.status.busy": "2024-02-08T02:54:22.957148Z",
     "iopub.status.idle": "2024-02-08T02:54:23.175613Z",
     "shell.execute_reply": "2024-02-08T02:54:23.174172Z"
    },
    "papermill": {
     "duration": 0.239365,
     "end_time": "2024-02-08T02:54:23.178497",
     "exception": false,
     "start_time": "2024-02-08T02:54:22.939132",
     "status": "completed"
    },
    "tags": []
   },
   "outputs": [
    {
     "data": {
      "image/png": "[encoded data removed]",
      "text/plain": [
       "<Figure size 640x480 with 1 Axes>"
      ]
     },
     "metadata": {},
     "output_type": "display_data"
    }
   ],
   "source": [
    "import seaborn as sns\n",
    "import matplotlib.pyplot as plt\n",
    "\n",
    "# Assuming X and y are your data arrays\n",
    "sns.regplot(x=X, y=y)\n",
    "plt.show()\n"
   ]
  },
  {
   "cell_type": "code",
   "execution_count": 49,
   "id": "f7931a43",
   "metadata": {
    "execution": {
     "iopub.execute_input": "2024-02-08T02:54:23.218425Z",
     "iopub.status.busy": "2024-02-08T02:54:23.218092Z",
     "iopub.status.idle": "2024-02-08T02:54:23.411311Z",
     "shell.execute_reply": "2024-02-08T02:54:23.410528Z"
    },
    "papermill": {
     "duration": 0.216813,
     "end_time": "2024-02-08T02:54:23.413248",
     "exception": false,
     "start_time": "2024-02-08T02:54:23.196435",
     "status": "completed"
    },
    "tags": []
   },
   "outputs": [
    {
     "data": {
      "image/png": "[encoded data removed]",
      "text/plain": [
       "<Figure size 640x480 with 1 Axes>"
      ]
     },
     "metadata": {},
     "output_type": "display_data"
    }
   ],
   "source": [
    "import seaborn as sns\n",
    "import matplotlib.pyplot as plt\n",
    "\n",
    "# Assuming y_pred and error are your data arrays\n",
    "sns.scatterplot(x=y_pred, y=error)\n",
    "plt.xlabel('predicted values')\n",
    "plt.ylabel('residuals')\n",
    "plt.xlim([0, 150000])\n",
    "plt.ylim([-8000, 8000])\n",
    "sns.lineplot(x=[0, 150000], y=[0, 0], color='blue')  # Provide x and y values as separate arguments\n",
    "plt.show()\n"
   ]
  },
  {
   "cell_type": "code",
   "execution_count": 50,
   "id": "4802bb89",
   "metadata": {
    "execution": {
     "iopub.execute_input": "2024-02-08T02:54:23.450928Z",
     "iopub.status.busy": "2024-02-08T02:54:23.449559Z",
     "iopub.status.idle": "2024-02-08T02:54:23.647445Z",
     "shell.execute_reply": "2024-02-08T02:54:23.646034Z"
    },
    "papermill": {
     "duration": 0.218962,
     "end_time": "2024-02-08T02:54:23.649982",
     "exception": false,
     "start_time": "2024-02-08T02:54:23.431020",
     "status": "completed"
    },
    "tags": []
   },
   "outputs": [
    {
     "data": {
      "image/png": "[encoded data removed]",
      "text/plain": [
       "<Figure size 640x480 with 2 Axes>"
      ]
     },
     "metadata": {},
     "output_type": "display_data"
    }
   ],
   "source": [
    "sns.heatmap(df.corr(),annot=True)\n",
    "plt.show()"
   ]
  },
  {
   "cell_type": "code",
   "execution_count": null,
   "id": "aab1f9eb",
   "metadata": {
    "papermill": {
     "duration": 0.018185,
     "end_time": "2024-02-08T02:54:23.687044",
     "exception": false,
     "start_time": "2024-02-08T02:54:23.668859",
     "status": "completed"
    },
    "tags": []
   },
   "outputs": [],
   "source": []
  }
 ],
 "metadata": {
  "kaggle": {
   "accelerator": "none",
   "dataSources": [
    {
     "datasetId": 1171594,
     "sourceId": 1962459,
     "sourceType": "datasetVersion"
    }
   ],
   "dockerImageVersionId": 30646,
   "isGpuEnabled": false,
   "isInternetEnabled": true,
   "language": "python",
   "sourceType": "notebook"
  },
  "kernelspec": {
   "display_name": "Python 3",
   "language": "python",
   "name": "python3"
  },
  "language_info": {
   "codemirror_mode": {
    "name": "ipython",
    "version": 3
   },
   "file_extension": ".py",
   "mimetype": "text/x-python",
   "name": "python",
   "nbconvert_exporter": "python",
   "pygments_lexer": "ipython3",
   "version": "3.10.13"
  },
  "papermill": {
   "default_parameters": {},
   "duration": 13.251202,
   "end_time": "2024-02-08T02:54:24.428984",
   "environment_variables": {},
   "exception": null,
   "input_path": "__notebook__.ipynb",
   "output_path": "__notebook__.ipynb",
   "parameters": {},
   "start_time": "2024-02-08T02:54:11.177782",
   "version": "2.5.0"
  }
 },
 "nbformat": 4,
 "nbformat_minor": 5
}
